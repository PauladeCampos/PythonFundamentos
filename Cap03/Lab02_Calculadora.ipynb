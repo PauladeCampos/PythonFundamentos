{
 "cells": [
  {
   "cell_type": "code",
   "execution_count": null,
   "metadata": {},
   "outputs": [],
   "source": [
    "print('\\n\\n******************** CALCULADORA PYTHON ********************\\n\\n')\n",
    "\n",
    "print('Selecione uma das opções abaixo:\\n\\n1 - Soma\\n2 - Subtração\\n3 - Multiplicação\\n4 - Divisão\\n\\n')\n",
    "\n",
    "opcao = int(input('Digite sua opção (1/2/3/4): '))\n",
    "\n",
    "if opcao == 1:\n",
    "    num1 = int(input('\\nDigite o primeiro número: '))\n",
    "    num2 = int(input('\\nDigite o segundo número: '))\n",
    "    print('\\n%s + %s = %s \\n' %(num1,num2,num1+num2))\n",
    "\n",
    "elif opcao == 2:\n",
    "    num1 = int(input('\\nDigite o primeiro número: '))\n",
    "    num2 = int(input('\\nDigite o segundo número: '))\n",
    "    print('\\n%s - %s = %s \\n' %(num1,num2,num1-num2))\n",
    "\n",
    "elif opcao == 3:\n",
    "    num1 = int(input('\\nDigite o primeiro número: '))\n",
    "    num2 = int(input('\\nDigite o segundo número: '))\n",
    "    print('\\n%s * %s = %s \\n' %(num1,num2,num1*num2))\n",
    "\n",
    "elif opcao == 4:\n",
    "    num1 = int(input('\\nDigite o primeiro número: '))\n",
    "    num2 = int(input('\\nDigite o segundo número: '))\n",
    "    print('\\n%s / %s = %s \\n' %(num1,num2,num1//num2))\n",
    "\n",
    "else:\n",
    "    print('\\n\\nOpção inválida!!!\\n\\nTente novamente!!!')"
   ]
  }
 ],
 "metadata": {
  "kernelspec": {
   "display_name": "Python 3",
   "language": "python",
   "name": "python3"
  },
  "language_info": {
   "codemirror_mode": {
    "name": "ipython",
    "version": 3
   },
   "file_extension": ".py",
   "mimetype": "text/x-python",
   "name": "python",
   "nbconvert_exporter": "python",
   "pygments_lexer": "ipython3",
   "version": "3.7.3"
  }
 },
 "nbformat": 4,
 "nbformat_minor": 2
}
